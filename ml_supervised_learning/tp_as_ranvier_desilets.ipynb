{
 "cells": [
  {
   "cell_type": "code",
   "execution_count": 1,
   "metadata": {},
   "outputs": [],
   "source": [
    "import numpy as np\n",
    "import pandas as pd\n",
    "import warnings\n",
    "import matplotlib.pyplot as plt\n",
    "warnings.filterwarnings('ignore')\n",
    "from sklearn.model_selection import train_test_split\n",
    "from sklearn import tree, metrics, neighbors, preprocessing,\\\n",
    "    decomposition, ensemble, model_selection, pipeline,\\\n",
    "    naive_bayes, neural_network, feature_extraction\n",
    "from sklearn.feature_extraction.text import CountVectorizer, TfidfTransformer, TfidfVectorizer\n",
    "import time\n",
    "import copy\n",
    "import pickle\n",
    "from gensim import models\n",
    "import re"
   ]
  },
  {
   "cell_type": "markdown",
   "metadata": {},
   "source": [
    "## I. Apprentissage supervisé : Feature engineering et Classification"
   ]
  },
  {
   "cell_type": "markdown",
   "metadata": {},
   "source": [
    "### Chargement des données et préparation"
   ]
  },
  {
   "cell_type": "code",
   "execution_count": 2,
   "metadata": {},
   "outputs": [],
   "source": [
    "credit_scoring_data = pd.read_csv('credit_scoring.csv', sep=';')"
   ]
  },
  {
   "cell_type": "code",
   "execution_count": 3,
   "metadata": {},
   "outputs": [
    {
     "data": {
      "text/html": [
       "<div>\n",
       "<style scoped>\n",
       "    .dataframe tbody tr th:only-of-type {\n",
       "        vertical-align: middle;\n",
       "    }\n",
       "\n",
       "    .dataframe tbody tr th {\n",
       "        vertical-align: top;\n",
       "    }\n",
       "\n",
       "    .dataframe thead th {\n",
       "        text-align: right;\n",
       "    }\n",
       "</style>\n",
       "<table border=\"1\" class=\"dataframe\">\n",
       "  <thead>\n",
       "    <tr style=\"text-align: right;\">\n",
       "      <th></th>\n",
       "      <th>Seniority</th>\n",
       "      <th>Home</th>\n",
       "      <th>Time</th>\n",
       "      <th>Age</th>\n",
       "      <th>Marital</th>\n",
       "      <th>Records</th>\n",
       "      <th>Job</th>\n",
       "      <th>Expenses</th>\n",
       "      <th>Income</th>\n",
       "      <th>Assets</th>\n",
       "      <th>Debt</th>\n",
       "      <th>Amount</th>\n",
       "      <th>Price</th>\n",
       "      <th>Status</th>\n",
       "    </tr>\n",
       "  </thead>\n",
       "  <tbody>\n",
       "    <tr>\n",
       "      <td>0</td>\n",
       "      <td>9.0</td>\n",
       "      <td>1.0</td>\n",
       "      <td>60.0</td>\n",
       "      <td>30.0</td>\n",
       "      <td>0.0</td>\n",
       "      <td>1.0</td>\n",
       "      <td>1.0</td>\n",
       "      <td>73.0</td>\n",
       "      <td>129.0</td>\n",
       "      <td>0.0</td>\n",
       "      <td>0.0</td>\n",
       "      <td>800.0</td>\n",
       "      <td>846.0</td>\n",
       "      <td>1</td>\n",
       "    </tr>\n",
       "    <tr>\n",
       "      <td>1</td>\n",
       "      <td>17.0</td>\n",
       "      <td>1.0</td>\n",
       "      <td>60.0</td>\n",
       "      <td>58.0</td>\n",
       "      <td>1.0</td>\n",
       "      <td>1.0</td>\n",
       "      <td>0.0</td>\n",
       "      <td>48.0</td>\n",
       "      <td>131.0</td>\n",
       "      <td>0.0</td>\n",
       "      <td>0.0</td>\n",
       "      <td>1000.0</td>\n",
       "      <td>1658.0</td>\n",
       "      <td>1</td>\n",
       "    </tr>\n",
       "    <tr>\n",
       "      <td>2</td>\n",
       "      <td>10.0</td>\n",
       "      <td>0.0</td>\n",
       "      <td>36.0</td>\n",
       "      <td>46.0</td>\n",
       "      <td>0.0</td>\n",
       "      <td>2.0</td>\n",
       "      <td>1.0</td>\n",
       "      <td>90.0</td>\n",
       "      <td>200.0</td>\n",
       "      <td>3000.0</td>\n",
       "      <td>0.0</td>\n",
       "      <td>2000.0</td>\n",
       "      <td>2985.0</td>\n",
       "      <td>0</td>\n",
       "    </tr>\n",
       "    <tr>\n",
       "      <td>3</td>\n",
       "      <td>0.0</td>\n",
       "      <td>1.0</td>\n",
       "      <td>60.0</td>\n",
       "      <td>24.0</td>\n",
       "      <td>1.0</td>\n",
       "      <td>1.0</td>\n",
       "      <td>0.0</td>\n",
       "      <td>63.0</td>\n",
       "      <td>182.0</td>\n",
       "      <td>2500.0</td>\n",
       "      <td>0.0</td>\n",
       "      <td>900.0</td>\n",
       "      <td>1325.0</td>\n",
       "      <td>1</td>\n",
       "    </tr>\n",
       "    <tr>\n",
       "      <td>4</td>\n",
       "      <td>0.0</td>\n",
       "      <td>1.0</td>\n",
       "      <td>36.0</td>\n",
       "      <td>26.0</td>\n",
       "      <td>1.0</td>\n",
       "      <td>1.0</td>\n",
       "      <td>0.0</td>\n",
       "      <td>46.0</td>\n",
       "      <td>107.0</td>\n",
       "      <td>0.0</td>\n",
       "      <td>0.0</td>\n",
       "      <td>310.0</td>\n",
       "      <td>910.0</td>\n",
       "      <td>1</td>\n",
       "    </tr>\n",
       "  </tbody>\n",
       "</table>\n",
       "</div>"
      ],
      "text/plain": [
       "   Seniority  Home  Time   Age  Marital  Records  Job  Expenses  Income  \\\n",
       "0        9.0   1.0  60.0  30.0      0.0      1.0  1.0      73.0   129.0   \n",
       "1       17.0   1.0  60.0  58.0      1.0      1.0  0.0      48.0   131.0   \n",
       "2       10.0   0.0  36.0  46.0      0.0      2.0  1.0      90.0   200.0   \n",
       "3        0.0   1.0  60.0  24.0      1.0      1.0  0.0      63.0   182.0   \n",
       "4        0.0   1.0  36.0  26.0      1.0      1.0  0.0      46.0   107.0   \n",
       "\n",
       "   Assets  Debt  Amount   Price  Status  \n",
       "0     0.0   0.0   800.0   846.0       1  \n",
       "1     0.0   0.0  1000.0  1658.0       1  \n",
       "2  3000.0   0.0  2000.0  2985.0       0  \n",
       "3  2500.0   0.0   900.0  1325.0       1  \n",
       "4     0.0   0.0   310.0   910.0       1  "
      ]
     },
     "execution_count": 3,
     "metadata": {},
     "output_type": "execute_result"
    }
   ],
   "source": [
    "credit_scoring_data.head()"
   ]
  },
  {
   "cell_type": "code",
   "execution_count": 4,
   "metadata": {},
   "outputs": [],
   "source": [
    "# Data\n",
    "X = credit_scoring_data.ix[:, :-1].values\n",
    "# Target\n",
    "y = credit_scoring_data.ix[:, -1].values"
   ]
  },
  {
   "cell_type": "code",
   "execution_count": 5,
   "metadata": {},
   "outputs": [
    {
     "name": "stdout",
     "output_type": "stream",
     "text": [
      "Dimensions des données : (4375, 13)\n",
      "Dimensions des targets : (4375,)\n"
     ]
    },
    {
     "data": {
      "image/png": "[encoded data removed]",
      "text/plain": [
       "<Figure size 432x288 with 1 Axes>"
      ]
     },
     "metadata": {
      "needs_background": "light"
     },
     "output_type": "display_data"
    }
   ],
   "source": [
    "print('Dimensions des données :', X.shape)\n",
    "print('Dimensions des targets :', y.shape)\n",
    "plt.hist(y, bins=3)\n",
    "plt.title('Histogramme des targets')\n",
    "plt.show()"
   ]
  },
  {
   "cell_type": "code",
   "execution_count": 6,
   "metadata": {},
   "outputs": [
    {
     "name": "stdout",
     "output_type": "stream",
     "text": [
      "Dimensions de X_train : (2187, 13)\n",
      "Dimensions de X_test : (2188, 13)\n",
      "Dimensions de y_train : (2187,)\n",
      "Dimensions de y_test : (2188,)\n"
     ]
    }
   ],
   "source": [
    "X_train, X_test, y_train, y_test = train_test_split(X, y, test_size=.5, random_state=1)\n",
    "print('Dimensions de X_train :', X_train.shape)\n",
    "print('Dimensions de X_test :', X_test.shape)\n",
    "print('Dimensions de y_train :', y_train.shape)\n",
    "print('Dimensions de y_test :', y_test.shape)"
   ]
  },
  {
   "cell_type": "markdown",
   "metadata": {},
   "source": [
    "### Apprentissage et évaluation de modèles"
   ]
  },
  {
   "cell_type": "markdown",
   "metadata": {},
   "source": [
    "#### Normalisation des données"
   ]
  },
  {
   "cell_type": "code",
   "execution_count": 7,
   "metadata": {},
   "outputs": [],
   "source": [
    "# StandardScaler\n",
    "SS = preprocessing.StandardScaler()\n",
    "SS.fit(X_train)\n",
    "X_train_ss = SS.transform(X_train)\n",
    "SS.fit(X_test)\n",
    "X_test_ss = SS.transform(X_test)\n",
    "\n",
    "# MinMaxScaler\n",
    "MM = preprocessing.MinMaxScaler()\n",
    "MM.fit(X_train)\n",
    "X_train_mm = MM.transform(X_train)\n",
    "MM.fit(X_test)\n",
    "X_test_mm = MM.transform(X_test)"
   ]
  },
  {
   "cell_type": "markdown",
   "metadata": {},
   "source": [
    "#### Evaluation des modèles"
   ]
  },
  {
   "cell_type": "code",
   "execution_count": 8,
   "metadata": {},
   "outputs": [],
   "source": [
    "def evaluate(model, X_train, X_test, y_train, y_test, save_to = ''):\n",
    "    model.fit(X_train, y_train)\n",
    "    y_predict = model.predict(X_test)\n",
    "    acc = metrics.accuracy_score(y_test, y_predict)\n",
    "    pre = metrics.precision_score(y_test, y_predict)\n",
    "    rec = metrics.recall_score(y_test, y_predict)\n",
    "    \n",
    "    print('Accuracy du modèle :', acc)\n",
    "    print('Precision du modèle :', pre)\n",
    "    print('Recall du modèle :', rec)\n",
    "    print()\n",
    "    print('Matrice de confusion :')\n",
    "    print()\n",
    "    print(pd.DataFrame(\n",
    "        metrics.confusion_matrix(y_test, y_predict),\n",
    "        columns=['Prédit 0', 'Prédit 1'],\n",
    "        index=['Vrai 0', 'Vrai 1']\n",
    "    ))\n",
    "    \n",
    "    if len(save_to) > 0:\n",
    "        with open(save_to, 'wb') as handle:\n",
    "            pickle.dump(model, handle)"
   ]
  },
  {
   "cell_type": "markdown",
   "metadata": {},
   "source": [
    "#### CART"
   ]
  },
  {
   "cell_type": "code",
   "execution_count": 9,
   "metadata": {},
   "outputs": [
    {
     "name": "stdout",
     "output_type": "stream",
     "text": [
      "Données non normalisées :\n",
      "\n",
      "Accuracy du modèle : 0.7271480804387569\n",
      "Precision du modèle : 0.8194174757281554\n",
      "Recall du modèle : 0.7992424242424242\n",
      "\n",
      "Matrice de confusion :\n",
      "\n",
      "        Prédit 0  Prédit 1\n",
      "Vrai 0       325       279\n",
      "Vrai 1       318      1266\n",
      "\n",
      "\n",
      "Données normalisées avec StandardScaler :\n",
      "\n",
      "Accuracy du modèle : 0.7180073126142597\n",
      "Precision du modèle : 0.8183015141540487\n",
      "Recall du modèle : 0.7847222222222222\n",
      "\n",
      "Matrice de confusion :\n",
      "\n",
      "        Prédit 0  Prédit 1\n",
      "Vrai 0       328       276\n",
      "Vrai 1       341      1243\n",
      "\n",
      "\n",
      "Données normalisées avec MinMaxScaler :\n",
      "\n",
      "Accuracy du modèle : 0.7221206581352834\n",
      "Precision du modèle : 0.8116219667943806\n",
      "Recall du modèle : 0.80239898989899\n",
      "\n",
      "Matrice de confusion :\n",
      "\n",
      "        Prédit 0  Prédit 1\n",
      "Vrai 0       309       295\n",
      "Vrai 1       313      1271\n"
     ]
    }
   ],
   "source": [
    "cart = tree.DecisionTreeClassifier(random_state=1)\n",
    "print('Données non normalisées :\\n')\n",
    "evaluate(cart, X_train, X_test, y_train, y_test)\n",
    "print('\\n\\nDonnées normalisées avec StandardScaler :\\n')\n",
    "evaluate(cart, X_train_ss, X_test_ss, y_train, y_test)\n",
    "print('\\n\\nDonnées normalisées avec MinMaxScaler :\\n')\n",
    "evaluate(cart, X_train_mm, X_test_mm, y_train, y_test)"
   ]
  },
  {
   "cell_type": "markdown",
   "metadata": {},
   "source": [
    "#### KNN"
   ]
  },
  {
   "cell_type": "code",
   "execution_count": 10,
   "metadata": {},
   "outputs": [
    {
     "name": "stdout",
     "output_type": "stream",
     "text": [
      "Données non normalisées :\n",
      "\n",
      "Accuracy du modèle : 0.7248628884826326\n",
      "Precision du modèle : 0.7709713024282561\n",
      "Recall du modèle : 0.8819444444444444\n",
      "\n",
      "Matrice de confusion :\n",
      "\n",
      "        Prédit 0  Prédit 1\n",
      "Vrai 0       189       415\n",
      "Vrai 1       187      1397\n",
      "\n",
      "\n",
      "Données normalisées avec StandardScaler :\n",
      "\n",
      "Accuracy du modèle : 0.7495429616087751\n",
      "Precision du modèle : 0.8087008343265792\n",
      "Recall du modèle : 0.8566919191919192\n",
      "\n",
      "Matrice de confusion :\n",
      "\n",
      "        Prédit 0  Prédit 1\n",
      "Vrai 0       283       321\n",
      "Vrai 1       227      1357\n",
      "\n",
      "\n",
      "Données normalisées avec MinMaxScaler :\n",
      "\n",
      "Accuracy du modèle : 0.7513711151736746\n",
      "Precision du modèle : 0.8002309468822171\n",
      "Recall du modèle : 0.875\n",
      "\n",
      "Matrice de confusion :\n",
      "\n",
      "        Prédit 0  Prédit 1\n",
      "Vrai 0       258       346\n",
      "Vrai 1       198      1386\n"
     ]
    }
   ],
   "source": [
    "knn = neighbors.KNeighborsClassifier(n_neighbors=5)\n",
    "print('Données non normalisées :\\n')\n",
    "evaluate(knn, X_train, X_test, y_train, y_test)\n",
    "print('\\n\\nDonnées normalisées avec StandardScaler :\\n')\n",
    "evaluate(knn, X_train_ss, X_test_ss, y_train, y_test)\n",
    "print('\\n\\nDonnées normalisées avec MinMaxScaler :\\n')\n",
    "evaluate(knn, X_train_mm, X_test_mm, y_train, y_test)"
   ]
  },
  {
   "cell_type": "markdown",
   "metadata": {},
   "source": [
    "### Création de nouvelles variables"
   ]
  },
  {
   "cell_type": "code",
   "execution_count": 11,
   "metadata": {},
   "outputs": [],
   "source": [
    "pca = decomposition.PCA(n_components=.9)\n",
    "\n",
    "pca.fit(X_train_ss)\n",
    "X_train_pca_ss = pca.transform(X_train_ss)\n",
    "X_train_pca_ss = np.append(X_train_ss[:], X_train_pca_ss[:, :3], axis=1)\n",
    "\n",
    "pca.fit(X_train_mm)\n",
    "X_train_pca_mm = pca.transform(X_train_mm)\n",
    "X_train_pca_mm = np.append(X_train_mm[:], X_train_pca_mm[:, :3], axis=1)\n",
    "\n",
    "pca.fit(X_test_ss)\n",
    "X_test_pca_ss = pca.transform(X_test_ss)\n",
    "X_test_pca_ss = np.append(X_test_ss[:], X_test_pca_ss[:, :3], axis=1)\n",
    "\n",
    "pca.fit(X_test_mm)\n",
    "X_test_pca_mm = pca.transform(X_test_mm)\n",
    "X_test_pca_mm = np.append(X_test_mm[:], X_test_pca_mm[:, :3], axis=1)"
   ]
  },
  {
   "cell_type": "markdown",
   "metadata": {},
   "source": [
    "#### CART"
   ]
  },
  {
   "cell_type": "code",
   "execution_count": 12,
   "metadata": {},
   "outputs": [
    {
     "name": "stdout",
     "output_type": "stream",
     "text": [
      "Données normalisées avec StandardScaler + PCA best variables :\n",
      "\n",
      "Accuracy du modèle : 0.7239488117001828\n",
      "Precision du modèle : 0.8279785809906292\n",
      "Recall du modèle : 0.7809343434343434\n",
      "\n",
      "Matrice de confusion :\n",
      "\n",
      "        Prédit 0  Prédit 1\n",
      "Vrai 0       347       257\n",
      "Vrai 1       347      1237\n",
      "\n",
      "\n",
      "Données normalisées avec MinMaxScaler + PCA best variables :\n",
      "\n",
      "Accuracy du modèle : 0.6992687385740403\n",
      "Precision du modèle : 0.8050065876152833\n",
      "Recall du modèle : 0.7714646464646465\n",
      "\n",
      "Matrice de confusion :\n",
      "\n",
      "        Prédit 0  Prédit 1\n",
      "Vrai 0       308       296\n",
      "Vrai 1       362      1222\n"
     ]
    }
   ],
   "source": [
    "print('Données normalisées avec StandardScaler + PCA best variables :\\n')\n",
    "evaluate(cart, X_train_pca_ss, X_test_pca_ss, y_train, y_test)\n",
    "print('\\n\\nDonnées normalisées avec MinMaxScaler + PCA best variables :\\n')\n",
    "evaluate(cart, X_train_pca_mm, X_test_pca_mm, y_train, y_test)"
   ]
  },
  {
   "cell_type": "markdown",
   "metadata": {},
   "source": [
    "#### KNN"
   ]
  },
  {
   "cell_type": "code",
   "execution_count": 13,
   "metadata": {},
   "outputs": [
    {
     "name": "stdout",
     "output_type": "stream",
     "text": [
      "Données normalisées avec StandardScaler + PCA best variables :\n",
      "\n",
      "Accuracy du modèle : 0.7600548446069469\n",
      "Precision du modèle : 0.8101933216168717\n",
      "Recall du modèle : 0.8731060606060606\n",
      "\n",
      "Matrice de confusion :\n",
      "\n",
      "        Prédit 0  Prédit 1\n",
      "Vrai 0       280       324\n",
      "Vrai 1       201      1383\n",
      "\n",
      "\n",
      "Données normalisées avec MinMaxScaler + PCA best variables :\n",
      "\n",
      "Accuracy du modèle : 0.7458866544789763\n",
      "Precision du modèle : 0.7900677200902935\n",
      "Recall du modèle : 0.8838383838383839\n",
      "\n",
      "Matrice de confusion :\n",
      "\n",
      "        Prédit 0  Prédit 1\n",
      "Vrai 0       232       372\n",
      "Vrai 1       184      1400\n"
     ]
    }
   ],
   "source": [
    "print('Données normalisées avec StandardScaler + PCA best variables :\\n')\n",
    "evaluate(knn, X_train_pca_ss, X_test_pca_ss, y_train, y_test)\n",
    "print('\\n\\nDonnées normalisées avec MinMaxScaler + PCA best variables :\\n')\n",
    "evaluate(knn, X_train_pca_mm, X_test_pca_mm, y_train, y_test)"
   ]
  },
  {
   "cell_type": "markdown",
   "metadata": {},
   "source": [
    "### Sélection de variables"
   ]
  },
  {
   "cell_type": "code",
   "execution_count": 14,
   "metadata": {},
   "outputs": [
    {
     "name": "stdout",
     "output_type": "stream",
     "text": [
      "['Income' 'Seniority' 'pca_2' 'pca_3' 'Price' 'pca_1' 'Amount' 'Age'\n",
      " 'Records' 'Assets' 'Expenses' 'Job' 'Time' 'Debt' 'Home' 'Marital']\n"
     ]
    },
    {
     "data": {
      "image/png": "[encoded data removed]",
      "text/plain": [
       "<Figure size 432x288 with 1 Axes>"
      ]
     },
     "metadata": {
      "needs_background": "light"
     },
     "output_type": "display_data"
    }
   ],
   "source": [
    "clf = ensemble.RandomForestClassifier(n_estimators=100)\n",
    "clf.fit(X_train_pca_ss, y_train)\n",
    "importances = clf.feature_importances_\n",
    "std = np.std([tree.feature_importances_ for tree in clf.estimators_],axis=0)\n",
    "sorted_idx = np.argsort(importances)[::-1]\n",
    "features = np.append(credit_scoring_data.columns[:-1].values, ['pca_1', 'pca_2', 'pca_3'])\n",
    "print(features[sorted_idx])\n",
    "padding = np.arange(X_train_pca_ss.size/len(X_train_pca_ss)) + 0.5\n",
    "plt.barh(padding, importances[sorted_idx],xerr=std[sorted_idx], align='center')\n",
    "plt.yticks(padding, features[sorted_idx])\n",
    "plt.xlabel(\"Relative Importance\")\n",
    "plt.title(\"Variable Importance\")\n",
    "plt.show()"
   ]
  },
  {
   "cell_type": "code",
   "execution_count": 15,
   "metadata": {},
   "outputs": [
    {
     "data": {
      "image/png": "[encoded data removed]",
      "text/plain": [
       "<Figure size 432x288 with 1 Axes>"
      ]
     },
     "metadata": {
      "needs_background": "light"
     },
     "output_type": "display_data"
    }
   ],
   "source": [
    "scores = np.zeros(X_train_pca_ss.shape[1] + 1)\n",
    "for f in np.arange(0, X_train_pca_ss.shape[1] + 1):\n",
    "    X1_f = X_train_pca_ss[:,sorted_idx[:f+1]]\n",
    "    X2_f = X_test_pca_ss[:,sorted_idx[:f+1]]\n",
    "    knn.fit(X1_f,y_train)\n",
    "    yknn = knn.predict(X2_f)\n",
    "    scores[f] = np.round(metrics.accuracy_score(y_test, yknn), 3)\n",
    "plt.plot(scores)\n",
    "plt.xlabel(\"Nombre de Variables\")\n",
    "plt.ylabel(\"Accuracy\")\n",
    "plt.title(\"Evolution de l'accuracy en fonction des variables\")\n",
    "plt.show()"
   ]
  },
  {
   "cell_type": "code",
   "execution_count": 16,
   "metadata": {},
   "outputs": [
    {
     "name": "stdout",
     "output_type": "stream",
     "text": [
      "['pca_3' 'Income' 'pca_2' 'Seniority' 'pca_1' 'Price' 'Amount' 'Age'\n",
      " 'Assets' 'Expenses' 'Records' 'Time' 'Debt' 'Job' 'Marital' 'Home']\n"
     ]
    },
    {
     "data": {
      "image/png": "[encoded data removed]",
      "text/plain": [
       "<Figure size 432x288 with 1 Axes>"
      ]
     },
     "metadata": {
      "needs_background": "light"
     },
     "output_type": "display_data"
    }
   ],
   "source": [
    "clf = ensemble.RandomForestClassifier(n_estimators=100)\n",
    "clf.fit(X_train_pca_mm, y_train)\n",
    "importances = clf.feature_importances_\n",
    "std = np.std([tree.feature_importances_ for tree in clf.estimators_],axis=0)\n",
    "sorted_idx = np.argsort(importances)[::-1]\n",
    "features = np.append(credit_scoring_data.columns[:-1].values, ['pca_1', 'pca_2', 'pca_3'])\n",
    "print(features[sorted_idx])\n",
    "padding = np.arange(X_train_pca_mm.size/len(X_train_pca_mm)) + 0.5\n",
    "plt.barh(padding, importances[sorted_idx],xerr=std[sorted_idx], align='center')\n",
    "plt.yticks(padding, features[sorted_idx])\n",
    "plt.xlabel(\"Relative Importance\")\n",
    "plt.title(\"Variable Importance\")\n",
    "plt.show()"
   ]
  },
  {
   "cell_type": "code",
   "execution_count": 17,
   "metadata": {},
   "outputs": [
    {
     "data": {
      "image/png": "[encoded data removed]",
      "text/plain": [
       "<Figure size 432x288 with 1 Axes>"
      ]
     },
     "metadata": {
      "needs_background": "light"
     },
     "output_type": "display_data"
    }
   ],
   "source": [
    "scores = np.zeros(X_train_pca_mm.shape[1] + 1)\n",
    "for f in np.arange(0, X_train_pca_mm.shape[1] + 1):\n",
    "    X1_f = X_train_pca_mm[:,sorted_idx[:f+1]]\n",
    "    X2_f = X_test_pca_mm[:,sorted_idx[:f+1]]\n",
    "    knn.fit(X1_f,y_train)\n",
    "    yknn = knn.predict(X2_f)\n",
    "    scores[f] = np.round(metrics.accuracy_score(y_test, yknn), 3)\n",
    "plt.plot(scores)\n",
    "plt.xlabel(\"Nombre de Variables\")\n",
    "plt.ylabel(\"Accuracy\")\n",
    "plt.title(\"Evolution de l'accuracy en fonction des variables\")\n",
    "plt.show()"
   ]
  },
  {
   "cell_type": "markdown",
   "metadata": {},
   "source": [
    "### Paramétrage des classifieurs"
   ]
  },
  {
   "cell_type": "markdown",
   "metadata": {},
   "source": [
    "#### CART"
   ]
  },
  {
   "cell_type": "code",
   "execution_count": 18,
   "metadata": {},
   "outputs": [
    {
     "data": {
      "image/png": "[encoded data removed]",
      "text/plain": [
       "<Figure size 432x288 with 1 Axes>"
      ]
     },
     "metadata": {
      "needs_background": "light"
     },
     "output_type": "display_data"
    },
    {
     "name": "stdout",
     "output_type": "stream",
     "text": [
      "Meilleur score obtenu : 0.7517146776406035  pour max_depth = 4\n"
     ]
    },
    {
     "data": {
      "image/png": "[encoded data removed]",
      "text/plain": [
       "<Figure size 432x288 with 1 Axes>"
      ]
     },
     "metadata": {
      "needs_background": "light"
     },
     "output_type": "display_data"
    },
    {
     "name": "stdout",
     "output_type": "stream",
     "text": [
      "Meilleur score obtenu : 0.7503429355281207  pour max_depth = 4\n"
     ]
    }
   ],
   "source": [
    "criterions = ['gini', 'entropy']\n",
    "depths = list(range(1, 15))\n",
    "tunable_params = {'criterion': criterions, 'max_depth': depths}\n",
    "grid = model_selection.GridSearchCV(tree.DecisionTreeClassifier(), param_grid=tunable_params, scoring='accuracy')\n",
    "grid.fit(X_train_pca_ss, y_train)\n",
    "\n",
    "for i, criterion in enumerate(criterions):\n",
    "    plt.plot(depths, grid.cv_results_['mean_test_score'][i*len(depths):(i+1)*len(depths)])\n",
    "    plt.title('Scores du CART pour données normalisée avec StandardScaler, criterion : ' + criterion)\n",
    "    plt.show()\n",
    "    print('Meilleur score obtenu :', max(grid.cv_results_['mean_test_score'][i*len(depths):(i+1)*len(depths)]), \n",
    "          ' pour max_depth =', np.argmax(grid.cv_results_['mean_test_score'][i*len(depths):(i+1)*len(depths)]) + 1)"
   ]
  },
  {
   "cell_type": "code",
   "execution_count": 19,
   "metadata": {},
   "outputs": [
    {
     "data": {
      "image/png": "[encoded data removed]",
      "text/plain": [
       "<Figure size 432x288 with 1 Axes>"
      ]
     },
     "metadata": {
      "needs_background": "light"
     },
     "output_type": "display_data"
    },
    {
     "name": "stdout",
     "output_type": "stream",
     "text": [
      "Meilleur score obtenu : 0.7462277091906722  pour max_depth = 4\n"
     ]
    },
    {
     "data": {
      "image/png": "[encoded data removed]",
      "text/plain": [
       "<Figure size 432x288 with 1 Axes>"
      ]
     },
     "metadata": {
      "needs_background": "light"
     },
     "output_type": "display_data"
    },
    {
     "name": "stdout",
     "output_type": "stream",
     "text": [
      "Meilleur score obtenu : 0.7489711934156379  pour max_depth = 6\n"
     ]
    }
   ],
   "source": [
    "criterions = ['gini', 'entropy']\n",
    "depths = list(range(1, 15))\n",
    "tunable_params = {'criterion': criterions, 'max_depth': depths}\n",
    "grid = model_selection.GridSearchCV(tree.DecisionTreeClassifier(), param_grid=tunable_params, scoring='accuracy')\n",
    "grid.fit(X_train_pca_mm, y_train)\n",
    "\n",
    "for i, criterion in enumerate(criterions):\n",
    "    plt.plot(depths, grid.cv_results_['mean_test_score'][i*len(depths):(i+1)*len(depths)])\n",
    "    plt.title('Scores du CART pour données normalisée avec MinMaxScaler, criterion : ' + criterion)\n",
    "    plt.show()\n",
    "    print('Meilleur score obtenu :', max(grid.cv_results_['mean_test_score'][i*len(depths):(i+1)*len(depths)]), \n",
    "          ' pour max_depth =', np.argmax(grid.cv_results_['mean_test_score'][i*len(depths):(i+1)*len(depths)]) + 1)"
   ]
  },
  {
   "cell_type": "markdown",
   "metadata": {},
   "source": [
    "#### KNN"
   ]
  },
  {
   "cell_type": "code",
   "execution_count": 20,
   "metadata": {},
   "outputs": [
    {
     "data": {
      "image/png": "[encoded data removed]",
      "text/plain": [
       "<Figure size 432x288 with 1 Axes>"
      ]
     },
     "metadata": {
      "needs_background": "light"
     },
     "output_type": "display_data"
    },
    {
     "name": "stdout",
     "output_type": "stream",
     "text": [
      "Meilleur score obtenu : 0.7777777777777778  pour k = 19\n"
     ]
    }
   ],
   "source": [
    "k_range = list(range(1, 40))\n",
    "tunable_params = {'n_neighbors': k_range}\n",
    "grid = model_selection.GridSearchCV(neighbors.KNeighborsClassifier(), param_grid=tunable_params, scoring='accuracy')\n",
    "grid.fit(X_train_pca_ss, y_train)\n",
    "plt.plot(k_range, grid.cv_results_['mean_test_score'])\n",
    "plt.title('Scores du KNN pour données normalisée avec StandardScaler, selon k')\n",
    "plt.show()\n",
    "print('Meilleur score obtenu :', max(grid.cv_results_['mean_test_score']), \n",
    "      ' pour k =', np.argmax(grid.cv_results_['mean_test_score']) + 1)"
   ]
  },
  {
   "cell_type": "code",
   "execution_count": 21,
   "metadata": {},
   "outputs": [
    {
     "data": {
      "image/png": "[encoded data removed]",
      "text/plain": [
       "<Figure size 432x288 with 1 Axes>"
      ]
     },
     "metadata": {
      "needs_background": "light"
     },
     "output_type": "display_data"
    },
    {
     "name": "stdout",
     "output_type": "stream",
     "text": [
      "Meilleur score obtenu : 0.7690900777320531  pour k = 11\n"
     ]
    }
   ],
   "source": [
    "k_range = list(range(1, 40))\n",
    "tunable_params = {'n_neighbors': k_range}\n",
    "grid = model_selection.GridSearchCV(neighbors.KNeighborsClassifier(), param_grid=tunable_params, scoring='accuracy')\n",
    "grid.fit(X_train_pca_mm, y_train)\n",
    "plt.plot(k_range, grid.cv_results_['mean_test_score'])\n",
    "plt.title('Scores du KNN pour données normalisée avec MinMaxScaler, selon k')\n",
    "plt.show()\n",
    "print('Meilleur score obtenu :', max(grid.cv_results_['mean_test_score']), \n",
    "      ' pour k =', np.argmax(grid.cv_results_['mean_test_score']) + 1)"
   ]
  },
  {
   "cell_type": "markdown",
   "metadata": {},
   "source": [
    "### Création d’un pipeline\n",
    "\n",
    "#### On ne conserve que le StandardScaler comme technique de normalisation puisqu'elle donne globalement des meilleurs résultats dans notre cas\n",
    "#### On sauvegarde les deux modèles entrainés sur les données de training, on pourra ensuite les charger à nouveau."
   ]
  },
  {
   "cell_type": "code",
   "execution_count": 22,
   "metadata": {},
   "outputs": [
    {
     "name": "stdout",
     "output_type": "stream",
     "text": [
      "Accuracy du modèle : 0.7728519195612431\n",
      "Precision du modèle : 0.810394060536836\n",
      "Recall du modèle : 0.8958333333333334\n",
      "\n",
      "Matrice de confusion :\n",
      "\n",
      "        Prédit 0  Prédit 1\n",
      "Vrai 0       272       332\n",
      "Vrai 1       165      1419\n",
      "\n",
      "\n",
      "Accuracy du modèle : 0.6937842778793418\n",
      "Precision du modèle : 0.7967532467532468\n",
      "Recall du modèle : 0.7746212121212122\n",
      "\n",
      "Matrice de confusion :\n",
      "\n",
      "        Prédit 0  Prédit 1\n",
      "Vrai 0       291       313\n",
      "Vrai 1       357      1227\n"
     ]
    }
   ],
   "source": [
    "pipe = pipeline.Pipeline(steps=[\n",
    "    ('scaler', preprocessing.StandardScaler()),\n",
    "    ('pca', decomposition.PCA(n_components=.9)),\n",
    "    ('model', neighbors.KNeighborsClassifier(n_neighbors=19)),\n",
    "])\n",
    "\n",
    "# Saves the model trained on X_train and y_train\n",
    "evaluate(pipe, X_train, X_test, y_train, y_test, save_to='knn_k19.pickle')\n",
    "\n",
    "print('\\n')\n",
    "\n",
    "pipe = pipeline.Pipeline(steps=[\n",
    "    ('scaler', preprocessing.StandardScaler()),\n",
    "    ('pca', decomposition.PCA(n_components=.9)),\n",
    "    ('model', tree.DecisionTreeClassifier(random_state=1)),\n",
    "])\n",
    "\n",
    "# Saves the model trained on X_train and y_train\n",
    "evaluate(pipe, X_train, X_test, y_train, y_test, save_to='scart.pickle')"
   ]
  },
  {
   "cell_type": "markdown",
   "metadata": {},
   "source": [
    "#### Chargement du modèle précédemment entrainé et prédictions sur les mêmes données qu'au dessus.\n",
    "#### On obtient bien les mêmes résultats"
   ]
  },
  {
   "cell_type": "code",
   "execution_count": 23,
   "metadata": {},
   "outputs": [
    {
     "name": "stdout",
     "output_type": "stream",
     "text": [
      "Accuracy du modèle : 0.7728519195612431\n",
      "Precision du modèle : 0.810394060536836\n",
      "Recall du modèle : 0.8958333333333334\n",
      "\n",
      "Matrice de confusion :\n",
      "\n",
      "        Prédit 0  Prédit 1\n",
      "Vrai 0       272       332\n",
      "Vrai 1       165      1419\n"
     ]
    }
   ],
   "source": [
    "with open('knn_k19.pickle', 'rb') as handle:\n",
    "    model = pickle.load(handle)\n",
    "    y_predict = model.predict(X_test)\n",
    "    acc = metrics.accuracy_score(y_test, y_predict)\n",
    "    pre = metrics.precision_score(y_test, y_predict)\n",
    "    rec = metrics.recall_score(y_test, y_predict)\n",
    "    \n",
    "    print('Accuracy du modèle :', acc)\n",
    "    print('Precision du modèle :', pre)\n",
    "    print('Recall du modèle :', rec)\n",
    "    print()\n",
    "    print('Matrice de confusion :')\n",
    "    print()\n",
    "    print(pd.DataFrame(\n",
    "        metrics.confusion_matrix(y_test, y_predict),\n",
    "        columns=['Prédit 0', 'Prédit 1'],\n",
    "        index=['Vrai 0', 'Vrai 1']\n",
    "    ))"
   ]
  },
  {
   "cell_type": "markdown",
   "metadata": {},
   "source": [
    "### Comparaison de plusieurs algorithmes d’apprentissage"
   ]
  },
  {
   "cell_type": "code",
   "execution_count": 24,
   "metadata": {},
   "outputs": [],
   "source": [
    "def run_classifiers(clfs, X, y):\n",
    "    for i in clfs:\n",
    "        clf = clfs[i]\n",
    "        print('-----------------')\n",
    "        print(i)\n",
    "        start = time.time()\n",
    "        cv_acc = model_selection.cross_val_score(clf, copy.deepcopy(X), copy.deepcopy(y), cv=10)\n",
    "        end = time.time()\n",
    "        print(\"Accuracy: {1:.3f} +/- {2:.3f}\".format(i, np.mean(cv_acc), np.std(cv_acc)))\n",
    "        cv_acc = model_selection.cross_val_score(clf, copy.deepcopy(X), copy.deepcopy(y), cv=5, scoring='roc_auc')\n",
    "        print(\"AUC: {1:.3f} +/- {2:.3f}\".format(i, np.mean(cv_acc), np.std(cv_acc)))\n",
    "        # Plus important que les oui soient vrais donc on choisit de conserver la precision et non le rappel\n",
    "        cv_acc = model_selection.cross_val_score(clf, copy.deepcopy(X), copy.deepcopy(y), cv=5, scoring='precision')\n",
    "        print(\"Precision: {1:.3f} +/- {2:.3f}\".format(i, np.mean(cv_acc), np.std(cv_acc)))\n",
    "        print(\"Exec time for a single run: {1:.3f}s\".format(i, (end - start) / 10))"
   ]
  },
  {
   "cell_type": "code",
   "execution_count": 25,
   "metadata": {},
   "outputs": [
    {
     "name": "stdout",
     "output_type": "stream",
     "text": [
      "-----------------\n",
      "Bayes\n",
      "Accuracy: 0.737 +/- 0.019\n",
      "AUC: 0.777 +/- 0.016\n",
      "Precision: 0.817 +/- 0.015\n",
      "Exec time for a single run: 0.004s\n",
      "-----------------\n",
      "RF\n",
      "Accuracy: 0.764 +/- 0.023\n",
      "AUC: 0.815 +/- 0.020\n",
      "Precision: 0.810 +/- 0.014\n",
      "Exec time for a single run: 0.342s\n",
      "-----------------\n",
      "KNN\n",
      "Accuracy: 0.764 +/- 0.023\n",
      "AUC: 0.788 +/- 0.027\n",
      "Precision: 0.799 +/- 0.019\n",
      "Exec time for a single run: 0.053s\n",
      "-----------------\n",
      "CART\n",
      "Accuracy: 0.696 +/- 0.030\n",
      "AUC: 0.626 +/- 0.002\n",
      "Precision: 0.791 +/- 0.002\n",
      "Exec time for a single run: 0.032s\n",
      "-----------------\n",
      "AdaBoost\n",
      "Accuracy: 0.780 +/- 0.023\n",
      "AUC: 0.826 +/- 0.024\n",
      "Precision: 0.817 +/- 0.016\n",
      "Exec time for a single run: 0.254s\n",
      "-----------------\n",
      "MLP\n",
      "Accuracy: 0.725 +/- 0.022\n",
      "AUC: 0.765 +/- 0.023\n",
      "Precision: 0.810 +/- 0.012\n",
      "Exec time for a single run: 0.727s\n",
      "-----------------\n",
      "Bagging\n",
      "Accuracy: 0.760 +/- 0.024\n",
      "AUC: 0.801 +/- 0.019\n",
      "Precision: 0.810 +/- 0.012\n",
      "Exec time for a single run: 0.971s\n"
     ]
    }
   ],
   "source": [
    "clfs = {\n",
    "    'Bayes': naive_bayes.GaussianNB(),\n",
    "    'RF': ensemble.RandomForestClassifier(n_estimators=50, random_state=1),\n",
    "    'KNN': neighbors.KNeighborsClassifier(n_neighbors=19),\n",
    "    'CART': tree.DecisionTreeClassifier(random_state=1),\n",
    "    'AdaBoost': ensemble.AdaBoostClassifier(tree.DecisionTreeClassifier(max_depth=1), algorithm=\"SAMME\", n_estimators=50),\n",
    "    'MLP': neural_network.MLPClassifier(solver='lbfgs', alpha=1e-5, hidden_layer_sizes=(20, 10), random_state=1),\n",
    "    'Bagging': ensemble.BaggingClassifier(n_estimators=50, random_state=1)\n",
    "}\n",
    "\n",
    "run_classifiers(clfs, X_train_pca_ss, y_train)"
   ]
  },
  {
   "cell_type": "markdown",
   "metadata": {},
   "source": [
    "#### Nous avons préféré conserver la precision plutôt que le rappel, il nous semble plus intéressant que la majorité des vrais prédits soient positifs.\n",
    "#### On s'apperçoit que dans notre cas le classifier le plus performant est l'AdaBoost avec la meilleure accuracy, meilleure AUC et meilleure precision."
   ]
  },
  {
   "cell_type": "markdown",
   "metadata": {},
   "source": [
    "## II. Apprentissage supervisé : Données hétérogènes"
   ]
  },
  {
   "cell_type": "markdown",
   "metadata": {},
   "source": [
    "### Traitement en ne considérant qe les valeurs numériques"
   ]
  },
  {
   "cell_type": "code",
   "execution_count": 26,
   "metadata": {},
   "outputs": [],
   "source": [
    "credit_data = pd.read_table('credit.data', header=None)\n",
    "# Replace ? with nan\n",
    "credit_data = credit_data.replace('?', np.nan)\n",
    "# Replace + and - with 1 and 0\n",
    "credit_data = credit_data.replace('+', 1)\n",
    "credit_data = credit_data.replace('-', 0)\n",
    "# Drop nan\n",
    "credit_data = credit_data.dropna()\n",
    "credit_data = credit_data._get_numeric_data()"
   ]
  },
  {
   "cell_type": "code",
   "execution_count": 27,
   "metadata": {},
   "outputs": [
    {
     "data": {
      "text/html": [
       "<div>\n",
       "<style scoped>\n",
       "    .dataframe tbody tr th:only-of-type {\n",
       "        vertical-align: middle;\n",
       "    }\n",
       "\n",
       "    .dataframe tbody tr th {\n",
       "        vertical-align: top;\n",
       "    }\n",
       "\n",
       "    .dataframe thead th {\n",
       "        text-align: right;\n",
       "    }\n",
       "</style>\n",
       "<table border=\"1\" class=\"dataframe\">\n",
       "  <thead>\n",
       "    <tr style=\"text-align: right;\">\n",
       "      <th></th>\n",
       "      <th>2</th>\n",
       "      <th>7</th>\n",
       "      <th>10</th>\n",
       "      <th>14</th>\n",
       "      <th>15</th>\n",
       "    </tr>\n",
       "  </thead>\n",
       "  <tbody>\n",
       "    <tr>\n",
       "      <td>0</td>\n",
       "      <td>0.000</td>\n",
       "      <td>1.25</td>\n",
       "      <td>1</td>\n",
       "      <td>0</td>\n",
       "      <td>1</td>\n",
       "    </tr>\n",
       "    <tr>\n",
       "      <td>1</td>\n",
       "      <td>4.460</td>\n",
       "      <td>3.04</td>\n",
       "      <td>6</td>\n",
       "      <td>560</td>\n",
       "      <td>1</td>\n",
       "    </tr>\n",
       "    <tr>\n",
       "      <td>2</td>\n",
       "      <td>0.500</td>\n",
       "      <td>1.50</td>\n",
       "      <td>0</td>\n",
       "      <td>824</td>\n",
       "      <td>1</td>\n",
       "    </tr>\n",
       "    <tr>\n",
       "      <td>3</td>\n",
       "      <td>1.540</td>\n",
       "      <td>3.75</td>\n",
       "      <td>5</td>\n",
       "      <td>3</td>\n",
       "      <td>1</td>\n",
       "    </tr>\n",
       "    <tr>\n",
       "      <td>4</td>\n",
       "      <td>5.625</td>\n",
       "      <td>1.71</td>\n",
       "      <td>0</td>\n",
       "      <td>0</td>\n",
       "      <td>1</td>\n",
       "    </tr>\n",
       "  </tbody>\n",
       "</table>\n",
       "</div>"
      ],
      "text/plain": [
       "      2     7   10   14  15\n",
       "0  0.000  1.25   1    0   1\n",
       "1  4.460  3.04   6  560   1\n",
       "2  0.500  1.50   0  824   1\n",
       "3  1.540  3.75   5    3   1\n",
       "4  5.625  1.71   0    0   1"
      ]
     },
     "execution_count": 27,
     "metadata": {},
     "output_type": "execute_result"
    }
   ],
   "source": [
    "credit_data.head()"
   ]
  },
  {
   "cell_type": "code",
   "execution_count": 28,
   "metadata": {},
   "outputs": [],
   "source": [
    "# Data\n",
    "X = credit_data.ix[:, :14].values\n",
    "# Target\n",
    "y = credit_data.ix[:, 15].values"
   ]
  },
  {
   "cell_type": "code",
   "execution_count": 29,
   "metadata": {},
   "outputs": [
    {
     "name": "stdout",
     "output_type": "stream",
     "text": [
      "Dimensions des données : (653, 4)\n",
      "Dimensions des targets : (653,)\n"
     ]
    },
    {
     "data": {
      "image/png": "[encoded data removed]",
      "text/plain": [
       "<Figure size 432x288 with 1 Axes>"
      ]
     },
     "metadata": {
      "needs_background": "light"
     },
     "output_type": "display_data"
    }
   ],
   "source": [
    "print('Dimensions des données :', X.shape)\n",
    "print('Dimensions des targets :', y.shape)\n",
    "plt.hist(y, bins=3)\n",
    "plt.title('Histogramme des targets')\n",
    "plt.show()"
   ]
  },
  {
   "cell_type": "code",
   "execution_count": 30,
   "metadata": {},
   "outputs": [
    {
     "name": "stdout",
     "output_type": "stream",
     "text": [
      "Dimensions de X : (653, 4)\n",
      "Dimensions de y : (653,)\n"
     ]
    }
   ],
   "source": [
    "print('Dimensions de X :', X.shape)\n",
    "print('Dimensions de y :', y.shape)"
   ]
  },
  {
   "cell_type": "code",
   "execution_count": 31,
   "metadata": {},
   "outputs": [],
   "source": [
    "# StandardScaler\n",
    "SS = preprocessing.StandardScaler()\n",
    "SS.fit(X)\n",
    "X_ss = SS.transform(X)\n",
    "\n",
    "# PCA\n",
    "pca = decomposition.PCA(n_components=.9)\n",
    "\n",
    "pca.fit(X_ss)\n",
    "X_pca_ss = pca.transform(X_ss)\n",
    "X_pca_ss = np.append(X_ss[:], X_pca_ss[:, :3], axis=1)"
   ]
  },
  {
   "cell_type": "code",
   "execution_count": 32,
   "metadata": {},
   "outputs": [
    {
     "name": "stdout",
     "output_type": "stream",
     "text": [
      "-----------------\n",
      "Bayes\n",
      "Accuracy: 0.720 +/- 0.063\n",
      "AUC: 0.805 +/- 0.054\n",
      "Precision: 0.845 +/- 0.101\n",
      "Exec time for a single run: 0.003s\n",
      "-----------------\n",
      "RF\n",
      "Accuracy: 0.731 +/- 0.069\n",
      "AUC: 0.792 +/- 0.058\n",
      "Precision: 0.716 +/- 0.067\n",
      "Exec time for a single run: 0.131s\n",
      "-----------------\n",
      "KNN\n",
      "Accuracy: 0.753 +/- 0.076\n",
      "AUC: 0.808 +/- 0.066\n",
      "Precision: 0.859 +/- 0.086\n",
      "Exec time for a single run: 0.009s\n",
      "-----------------\n",
      "CART\n",
      "Accuracy: 0.698 +/- 0.053\n",
      "AUC: 0.696 +/- 0.069\n",
      "Precision: 0.667 +/- 0.078\n",
      "Exec time for a single run: 0.007s\n",
      "-----------------\n",
      "AdaBoost\n",
      "Accuracy: 0.778 +/- 0.067\n",
      "AUC: 0.830 +/- 0.065\n",
      "Precision: 0.796 +/- 0.056\n",
      "Exec time for a single run: 0.136s\n",
      "-----------------\n",
      "MLP\n",
      "Accuracy: 0.737 +/- 0.054\n",
      "AUC: 0.779 +/- 0.061\n",
      "Precision: 0.718 +/- 0.054\n",
      "Exec time for a single run: 0.296s\n",
      "-----------------\n",
      "Bagging\n",
      "Accuracy: 0.756 +/- 0.075\n",
      "AUC: 0.791 +/- 0.062\n",
      "Precision: 0.741 +/- 0.063\n",
      "Exec time for a single run: 0.219s\n"
     ]
    }
   ],
   "source": [
    "run_classifiers(clfs, X_pca_ss, y)"
   ]
  },
  {
   "cell_type": "markdown",
   "metadata": {},
   "source": [
    "### Traitement en considérant toutes les données"
   ]
  },
  {
   "cell_type": "code",
   "execution_count": 33,
   "metadata": {},
   "outputs": [],
   "source": [
    "credit_data = pd.read_table('credit.data', header=None)\n",
    "# Replace + and - with 1 and 0\n",
    "credit_data = credit_data.replace('+', 1)\n",
    "credit_data = credit_data.replace('-', 0)\n",
    "\n",
    "# Data\n",
    "X = credit_data.ix[:, :14].values\n",
    "# Target\n",
    "y = credit_data.ix[:, 15].values\n",
    "\n",
    "# Define columns\n",
    "col_num = [1, 2, 7, 10, 13, 14]\n",
    "col_cat = [0, 3, 4, 5, 6, 8, 9, 11, 12]"
   ]
  },
  {
   "cell_type": "code",
   "execution_count": 34,
   "metadata": {},
   "outputs": [
    {
     "data": {
      "text/html": [
       "<div>\n",
       "<style scoped>\n",
       "    .dataframe tbody tr th:only-of-type {\n",
       "        vertical-align: middle;\n",
       "    }\n",
       "\n",
       "    .dataframe tbody tr th {\n",
       "        vertical-align: top;\n",
       "    }\n",
       "\n",
       "    .dataframe thead th {\n",
       "        text-align: right;\n",
       "    }\n",
       "</style>\n",
       "<table border=\"1\" class=\"dataframe\">\n",
       "  <thead>\n",
       "    <tr style=\"text-align: right;\">\n",
       "      <th></th>\n",
       "      <th>0</th>\n",
       "      <th>1</th>\n",
       "      <th>2</th>\n",
       "      <th>3</th>\n",
       "      <th>4</th>\n",
       "      <th>5</th>\n",
       "      <th>6</th>\n",
       "      <th>7</th>\n",
       "      <th>8</th>\n",
       "      <th>9</th>\n",
       "      <th>10</th>\n",
       "      <th>11</th>\n",
       "      <th>12</th>\n",
       "      <th>13</th>\n",
       "      <th>14</th>\n",
       "      <th>15</th>\n",
       "    </tr>\n",
       "  </thead>\n",
       "  <tbody>\n",
       "    <tr>\n",
       "      <td>0</td>\n",
       "      <td>b</td>\n",
       "      <td>30.83</td>\n",
       "      <td>0.000</td>\n",
       "      <td>u</td>\n",
       "      <td>g</td>\n",
       "      <td>w</td>\n",
       "      <td>v</td>\n",
       "      <td>1.25</td>\n",
       "      <td>t</td>\n",
       "      <td>t</td>\n",
       "      <td>1</td>\n",
       "      <td>f</td>\n",
       "      <td>g</td>\n",
       "      <td>202</td>\n",
       "      <td>0</td>\n",
       "      <td>1</td>\n",
       "    </tr>\n",
       "    <tr>\n",
       "      <td>1</td>\n",
       "      <td>a</td>\n",
       "      <td>58.67</td>\n",
       "      <td>4.460</td>\n",
       "      <td>u</td>\n",
       "      <td>g</td>\n",
       "      <td>q</td>\n",
       "      <td>h</td>\n",
       "      <td>3.04</td>\n",
       "      <td>t</td>\n",
       "      <td>t</td>\n",
       "      <td>6</td>\n",
       "      <td>f</td>\n",
       "      <td>g</td>\n",
       "      <td>43</td>\n",
       "      <td>560</td>\n",
       "      <td>1</td>\n",
       "    </tr>\n",
       "    <tr>\n",
       "      <td>2</td>\n",
       "      <td>a</td>\n",
       "      <td>24.50</td>\n",
       "      <td>0.500</td>\n",
       "      <td>u</td>\n",
       "      <td>g</td>\n",
       "      <td>q</td>\n",
       "      <td>h</td>\n",
       "      <td>1.50</td>\n",
       "      <td>t</td>\n",
       "      <td>f</td>\n",
       "      <td>0</td>\n",
       "      <td>f</td>\n",
       "      <td>g</td>\n",
       "      <td>280</td>\n",
       "      <td>824</td>\n",
       "      <td>1</td>\n",
       "    </tr>\n",
       "    <tr>\n",
       "      <td>3</td>\n",
       "      <td>b</td>\n",
       "      <td>27.83</td>\n",
       "      <td>1.540</td>\n",
       "      <td>u</td>\n",
       "      <td>g</td>\n",
       "      <td>w</td>\n",
       "      <td>v</td>\n",
       "      <td>3.75</td>\n",
       "      <td>t</td>\n",
       "      <td>t</td>\n",
       "      <td>5</td>\n",
       "      <td>t</td>\n",
       "      <td>g</td>\n",
       "      <td>100</td>\n",
       "      <td>3</td>\n",
       "      <td>1</td>\n",
       "    </tr>\n",
       "    <tr>\n",
       "      <td>4</td>\n",
       "      <td>b</td>\n",
       "      <td>20.17</td>\n",
       "      <td>5.625</td>\n",
       "      <td>u</td>\n",
       "      <td>g</td>\n",
       "      <td>w</td>\n",
       "      <td>v</td>\n",
       "      <td>1.71</td>\n",
       "      <td>t</td>\n",
       "      <td>f</td>\n",
       "      <td>0</td>\n",
       "      <td>f</td>\n",
       "      <td>s</td>\n",
       "      <td>120</td>\n",
       "      <td>0</td>\n",
       "      <td>1</td>\n",
       "    </tr>\n",
       "  </tbody>\n",
       "</table>\n",
       "</div>"
      ],
      "text/plain": [
       "  0      1      2  3  4  5  6     7  8  9   10 11 12   13   14  15\n",
       "0  b  30.83  0.000  u  g  w  v  1.25  t  t   1  f  g  202    0   1\n",
       "1  a  58.67  4.460  u  g  q  h  3.04  t  t   6  f  g   43  560   1\n",
       "2  a  24.50  0.500  u  g  q  h  1.50  t  f   0  f  g  280  824   1\n",
       "3  b  27.83  1.540  u  g  w  v  3.75  t  t   5  t  g  100    3   1\n",
       "4  b  20.17  5.625  u  g  w  v  1.71  t  f   0  f  s  120    0   1"
      ]
     },
     "execution_count": 34,
     "metadata": {},
     "output_type": "execute_result"
    }
   ],
   "source": [
    "credit_data.head()"
   ]
  },
  {
   "cell_type": "code",
   "execution_count": 35,
   "metadata": {},
   "outputs": [
    {
     "name": "stderr",
     "output_type": "stream",
     "text": [
      "C:\\Users\\Thomas Ranvier\\Anaconda3\\lib\\site-packages\\sklearn\\utils\\deprecation.py:66: DeprecationWarning: Class Imputer is deprecated; Imputer was deprecated in version 0.20 and will be removed in 0.22. Import impute.SimpleImputer from sklearn instead.\n",
      "  warnings.warn(msg, category=DeprecationWarning)\n",
      "C:\\Users\\Thomas Ranvier\\Anaconda3\\lib\\site-packages\\sklearn\\utils\\deprecation.py:66: DeprecationWarning: Class Imputer is deprecated; Imputer was deprecated in version 0.20 and will be removed in 0.22. Import impute.SimpleImputer from sklearn instead.\n",
      "  warnings.warn(msg, category=DeprecationWarning)\n"
     ]
    }
   ],
   "source": [
    "# Handle categorial columns\n",
    "X_cat = np.copy(X)\n",
    "X_cat = X_cat.take(col_cat, axis=1)\n",
    "for col_id in range(len(col_cat)):\n",
    "    unique_val, val_idx = np.unique(X_cat[:, col_id], return_inverse=True)\n",
    "    X_cat[:, col_id] = val_idx\n",
    "imp_cat = preprocessing.Imputer(missing_values=0, strategy='most_frequent')\n",
    "X_cat[:, range(5)] = imp_cat.fit_transform(X_cat[:, range(5)])\n",
    "\n",
    "# Handle numeric columns\n",
    "X_num = np.copy(X[:, col_num])\n",
    "X_num[X_num == '?'] = np.nan\n",
    "X_num = X_num.astype(float)\n",
    "imp_num = preprocessing.Imputer(missing_values=np.nan, strategy='mean')\n",
    "X_num = imp_num.fit_transform(X_num)\n",
    "\n",
    "# StandardScaler\n",
    "SS = preprocessing.StandardScaler()\n",
    "SS.fit(X_num)\n",
    "X_num_ss = SS.transform(X_num)\n",
    "\n",
    "# PCA\n",
    "pca = decomposition.PCA(n_components=.9)\n",
    "\n",
    "pca.fit(X_num_ss)\n",
    "X_num_pca_ss = pca.transform(X_num_ss)\n",
    "X_num_pca_ss = np.append(X_num_ss[:], X_num_pca_ss[:, :3], axis=1)"
   ]
  },
  {
   "cell_type": "code",
   "execution_count": 36,
   "metadata": {},
   "outputs": [],
   "source": [
    "# Convert categorial values to binary\n",
    "X_cat_bin = preprocessing.OneHotEncoder().fit_transform(X_cat).toarray()"
   ]
  },
  {
   "cell_type": "code",
   "execution_count": 37,
   "metadata": {},
   "outputs": [
    {
     "name": "stdout",
     "output_type": "stream",
     "text": [
      "-----------------\n",
      "Bayes\n",
      "Accuracy: 0.768 +/- 0.071\n",
      "AUC: 0.877 +/- 0.065\n",
      "Precision: 0.830 +/- 0.112\n",
      "Exec time for a single run: 0.007s\n",
      "-----------------\n",
      "RF\n",
      "Accuracy: 0.846 +/- 0.128\n",
      "AUC: 0.914 +/- 0.073\n",
      "Precision: 0.843 +/- 0.155\n",
      "Exec time for a single run: 0.135s\n",
      "-----------------\n",
      "KNN\n",
      "Accuracy: 0.773 +/- 0.077\n",
      "AUC: 0.844 +/- 0.066\n",
      "Precision: 0.808 +/- 0.121\n",
      "Exec time for a single run: 0.013s\n",
      "-----------------\n",
      "CART\n",
      "Accuracy: 0.782 +/- 0.102\n",
      "AUC: 0.792 +/- 0.084\n",
      "Precision: 0.772 +/- 0.138\n",
      "Exec time for a single run: 0.011s\n",
      "-----------------\n",
      "AdaBoost\n",
      "Accuracy: 0.838 +/- 0.147\n",
      "AUC: 0.915 +/- 0.078\n",
      "Precision: 0.836 +/- 0.175\n",
      "Exec time for a single run: 0.193s\n",
      "-----------------\n",
      "MLP\n",
      "Accuracy: 0.827 +/- 0.111\n",
      "AUC: 0.899 +/- 0.066\n",
      "Precision: 0.856 +/- 0.149\n",
      "Exec time for a single run: 0.310s\n",
      "-----------------\n",
      "Bagging\n",
      "Accuracy: 0.839 +/- 0.132\n",
      "AUC: 0.903 +/- 0.084\n",
      "Precision: 0.817 +/- 0.148\n",
      "Exec time for a single run: 0.307s\n"
     ]
    }
   ],
   "source": [
    "# Construct back the whole dataset set and run all classifiers\n",
    "X_total = np.concatenate((X_cat, X_num_pca_ss), axis=1)\n",
    "\n",
    "run_classifiers(clfs, X_total, y)"
   ]
  },
  {
   "cell_type": "code",
   "execution_count": 38,
   "metadata": {},
   "outputs": [
    {
     "name": "stdout",
     "output_type": "stream",
     "text": [
      "-----------------\n",
      "Bayes\n",
      "Accuracy: 0.724 +/- 0.047\n",
      "AUC: 0.863 +/- 0.052\n",
      "Precision: 0.854 +/- 0.099\n",
      "Exec time for a single run: 0.003s\n",
      "-----------------\n",
      "RF\n",
      "Accuracy: 0.849 +/- 0.137\n",
      "AUC: 0.908 +/- 0.079\n",
      "Precision: 0.847 +/- 0.163\n",
      "Exec time for a single run: 0.144s\n",
      "-----------------\n",
      "KNN\n",
      "Accuracy: 0.839 +/- 0.102\n",
      "AUC: 0.894 +/- 0.076\n",
      "Precision: 0.863 +/- 0.136\n",
      "Exec time for a single run: 0.017s\n",
      "-----------------\n",
      "CART\n",
      "Accuracy: 0.802 +/- 0.091\n",
      "AUC: 0.788 +/- 0.090\n",
      "Precision: 0.776 +/- 0.152\n",
      "Exec time for a single run: 0.011s\n",
      "-----------------\n",
      "AdaBoost\n",
      "Accuracy: 0.836 +/- 0.156\n",
      "AUC: 0.914 +/- 0.078\n",
      "Precision: 0.838 +/- 0.180\n",
      "Exec time for a single run: 0.170s\n",
      "-----------------\n",
      "MLP\n",
      "Accuracy: 0.791 +/- 0.124\n",
      "AUC: 0.844 +/- 0.093\n",
      "Precision: 0.801 +/- 0.141\n",
      "Exec time for a single run: 0.272s\n",
      "-----------------\n",
      "Bagging\n",
      "Accuracy: 0.841 +/- 0.141\n",
      "AUC: 0.906 +/- 0.086\n",
      "Precision: 0.831 +/- 0.153\n",
      "Exec time for a single run: 0.280s\n"
     ]
    }
   ],
   "source": [
    "# Test with binarized cat columns\n",
    "X_total_bin = np.concatenate((X_cat_bin, X_num_pca_ss), axis=1)\n",
    "\n",
    "run_classifiers(clfs, X_total_bin, y)"
   ]
  },
  {
   "cell_type": "markdown",
   "metadata": {},
   "source": [
    "#### On observe des résultats bien meilleurs lorsque l'on considère le dataset dans son ensemble. \n",
    "#### On peut également constater que les résultats sont globalement légèrement suppérieurs avec les données catégorielles binarisées.\n",
    "#### Le classifier semblant le plus performant avec ce dataset est la random forest"
   ]
  },
  {
   "cell_type": "markdown",
   "metadata": {},
   "source": [
    "## III. Apprentissage supervisé sur des données textuelles : Feature engineering et Classification"
   ]
  },
  {
   "cell_type": "code",
   "execution_count": 39,
   "metadata": {
    "scrolled": false
   },
   "outputs": [],
   "source": [
    "sms_data = pd.read_table('SMSSpamCollection.data', header=None)"
   ]
  },
  {
   "cell_type": "code",
   "execution_count": 40,
   "metadata": {
    "scrolled": false
   },
   "outputs": [
    {
     "data": {
      "text/html": [
       "<div>\n",
       "<style scoped>\n",
       "    .dataframe tbody tr th:only-of-type {\n",
       "        vertical-align: middle;\n",
       "    }\n",
       "\n",
       "    .dataframe tbody tr th {\n",
       "        vertical-align: top;\n",
       "    }\n",
       "\n",
       "    .dataframe thead th {\n",
       "        text-align: right;\n",
       "    }\n",
       "</style>\n",
       "<table border=\"1\" class=\"dataframe\">\n",
       "  <thead>\n",
       "    <tr style=\"text-align: right;\">\n",
       "      <th></th>\n",
       "      <th>0</th>\n",
       "      <th>1</th>\n",
       "    </tr>\n",
       "  </thead>\n",
       "  <tbody>\n",
       "    <tr>\n",
       "      <td>0</td>\n",
       "      <td>ham</td>\n",
       "      <td>Go until jurong point, crazy.. Available only ...</td>\n",
       "    </tr>\n",
       "    <tr>\n",
       "      <td>1</td>\n",
       "      <td>ham</td>\n",
       "      <td>Ok lar... Joking wif u oni...</td>\n",
       "    </tr>\n",
       "    <tr>\n",
       "      <td>2</td>\n",
       "      <td>spam</td>\n",
       "      <td>Free entry in 2 a wkly comp to win FA Cup fina...</td>\n",
       "    </tr>\n",
       "    <tr>\n",
       "      <td>3</td>\n",
       "      <td>ham</td>\n",
       "      <td>U dun say so early hor... U c already then say...</td>\n",
       "    </tr>\n",
       "    <tr>\n",
       "      <td>4</td>\n",
       "      <td>ham</td>\n",
       "      <td>Nah I don't think he goes to usf, he lives aro...</td>\n",
       "    </tr>\n",
       "  </tbody>\n",
       "</table>\n",
       "</div>"
      ],
      "text/plain": [
       "      0                                                  1\n",
       "0   ham  Go until jurong point, crazy.. Available only ...\n",
       "1   ham                      Ok lar... Joking wif u oni...\n",
       "2  spam  Free entry in 2 a wkly comp to win FA Cup fina...\n",
       "3   ham  U dun say so early hor... U c already then say...\n",
       "4   ham  Nah I don't think he goes to usf, he lives aro..."
      ]
     },
     "execution_count": 40,
     "metadata": {},
     "output_type": "execute_result"
    }
   ],
   "source": [
    "sms_data.head()"
   ]
  },
  {
   "cell_type": "markdown",
   "metadata": {},
   "source": [
    "### Vectorizer"
   ]
  },
  {
   "cell_type": "code",
   "execution_count": 41,
   "metadata": {},
   "outputs": [],
   "source": [
    "# Create the vectorizer\n",
    "vectorizer = CountVectorizer(stop_words='english')"
   ]
  },
  {
   "cell_type": "code",
   "execution_count": 42,
   "metadata": {},
   "outputs": [
    {
     "name": "stdout",
     "output_type": "stream",
     "text": [
      "Matrice de co-occurences :\n"
     ]
    },
    {
     "data": {
      "text/plain": [
       "<5572x8444 sparse matrix of type '<class 'numpy.int64'>'\n",
       "\twith 43578 stored elements in Compressed Sparse Row format>"
      ]
     },
     "execution_count": 42,
     "metadata": {},
     "output_type": "execute_result"
    }
   ],
   "source": [
    "# Fit it to our texts\n",
    "X_cv = vectorizer.fit_transform(sms_data.ix[:, 1])\n",
    "print('Matrice de co-occurences :')\n",
    "X_cv"
   ]
  },
  {
   "cell_type": "markdown",
   "metadata": {},
   "source": [
    "#### Il n'est apparemment pas toujours recommandé de supprimer les stop words mais nous les supprimons ici avec l'option stop_words='english'.\n",
    "#### Seuls les mots de plus de 2 caractères sont conservés."
   ]
  },
  {
   "cell_type": "code",
   "execution_count": 43,
   "metadata": {},
   "outputs": [],
   "source": [
    "# Extract targets in y\n",
    "y = sms_data.ix[:, 0].values\n",
    "y = np.where(y=='ham', 1, y)\n",
    "y = np.where(y=='spam', 0, y)\n",
    "y = y.astype(float)"
   ]
  },
  {
   "cell_type": "code",
   "execution_count": 44,
   "metadata": {
    "scrolled": false
   },
   "outputs": [
    {
     "name": "stdout",
     "output_type": "stream",
     "text": [
      "-----------------\n",
      "Bayes\n",
      "Accuracy: 0.884 +/- 0.009\n",
      "AUC: 0.898 +/- 0.011\n",
      "Precision: 0.985 +/- 0.003\n",
      "Exec time for a single run: 2.488s\n",
      "-----------------\n",
      "MLP\n",
      "Accuracy: 0.983 +/- 0.004\n",
      "AUC: 0.988 +/- 0.004\n",
      "Precision: 0.985 +/- 0.001\n",
      "Exec time for a single run: 1.788s\n"
     ]
    }
   ],
   "source": [
    "clfs_light = {\n",
    "    'Bayes': naive_bayes.GaussianNB(),\n",
    "    'MLP': neural_network.MLPClassifier(solver='lbfgs', alpha=1e-5, hidden_layer_sizes=(20, 10), random_state=1),\n",
    "}\n",
    "\n",
    "run_classifiers(clfs_light, X_cv.toarray().astype(float), y)"
   ]
  },
  {
   "cell_type": "markdown",
   "metadata": {},
   "source": [
    "#### On remarque que les résultats sont excellents, notamment pour le MLP, mais le temps d'exécution est extrémement long, nous avons dû créer une liste de classifiers très allégée pour éviter de devoir attendre trop longtemps.\n",
    "\n",
    "#### Il est important de noter que l'exécution est longue à cause "
   ]
  },
  {
   "cell_type": "markdown",
   "metadata": {},
   "source": [
    "### Tf-idf"
   ]
  },
  {
   "cell_type": "code",
   "execution_count": 45,
   "metadata": {},
   "outputs": [],
   "source": [
    "# Create the td-idf\n",
    "vectorizer = TfidfVectorizer(stop_words='english')"
   ]
  },
  {
   "cell_type": "code",
   "execution_count": 46,
   "metadata": {},
   "outputs": [
    {
     "data": {
      "text/plain": [
       "<5572x8444 sparse matrix of type '<class 'numpy.float64'>'\n",
       "\twith 43578 stored elements in Compressed Sparse Row format>"
      ]
     },
     "execution_count": 46,
     "metadata": {},
     "output_type": "execute_result"
    }
   ],
   "source": [
    "# Fit to the data\n",
    "X_tf = vectorizer.fit_transform(sms_data.ix[:, 1])\n",
    "X_tf"
   ]
  },
  {
   "cell_type": "code",
   "execution_count": 47,
   "metadata": {},
   "outputs": [
    {
     "name": "stdout",
     "output_type": "stream",
     "text": [
      "-----------------\n",
      "Bayes\n",
      "Accuracy: 0.881 +/- 0.010\n",
      "AUC: 0.883 +/- 0.008\n",
      "Precision: 0.980 +/- 0.002\n",
      "Exec time for a single run: 1.095s\n",
      "-----------------\n",
      "MLP\n",
      "Accuracy: 0.925 +/- 0.059\n",
      "AUC: 0.984 +/- 0.006\n",
      "Precision: 0.915 +/- 0.060\n",
      "Exec time for a single run: 1.732s\n"
     ]
    }
   ],
   "source": [
    "run_classifiers(clfs_light, X_tf.toarray().astype(float), y)"
   ]
  },
  {
   "cell_type": "markdown",
   "metadata": {},
   "source": [
    "#### Nous utilisons ici le tfidf vectorizer qui combine l'étape précédente avec une transformation par tfidf.\n",
    "\n",
    "#### Les résultats obtenus sont moins bon que précédemment et le temps d'exécution est le même car la matrice présente les mêmes dimensions que précédemment."
   ]
  },
  {
   "cell_type": "code",
   "execution_count": 48,
   "metadata": {},
   "outputs": [],
   "source": [
    "transformer = decomposition.TruncatedSVD(n_components=100)"
   ]
  },
  {
   "cell_type": "code",
   "execution_count": 49,
   "metadata": {},
   "outputs": [
    {
     "data": {
      "text/plain": [
       "(5572, 100)"
      ]
     },
     "execution_count": 49,
     "metadata": {},
     "output_type": "execute_result"
    }
   ],
   "source": [
    "# Fit to the data\n",
    "X_t = transformer.fit_transform(X_tf)\n",
    "X_t.shape"
   ]
  },
  {
   "cell_type": "code",
   "execution_count": 50,
   "metadata": {},
   "outputs": [
    {
     "name": "stdout",
     "output_type": "stream",
     "text": [
      "-----------------\n",
      "Bayes\n",
      "Accuracy: 0.697 +/- 0.015\n",
      "AUC: 0.912 +/- 0.017\n",
      "Precision: 0.978 +/- 0.005\n",
      "Exec time for a single run: 0.013s\n",
      "-----------------\n",
      "RF\n",
      "Accuracy: 0.975 +/- 0.005\n",
      "AUC: 0.976 +/- 0.010\n",
      "Precision: 0.973 +/- 0.004\n",
      "Exec time for a single run: 1.092s\n",
      "-----------------\n",
      "KNN\n",
      "Accuracy: 0.959 +/- 0.006\n",
      "AUC: 0.968 +/- 0.006\n",
      "Precision: 0.958 +/- 0.005\n",
      "Exec time for a single run: 0.420s\n",
      "-----------------\n",
      "CART\n",
      "Accuracy: 0.952 +/- 0.007\n",
      "AUC: 0.895 +/- 0.022\n",
      "Precision: 0.973 +/- 0.007\n",
      "Exec time for a single run: 0.413s\n",
      "-----------------\n",
      "AdaBoost\n",
      "Accuracy: 0.965 +/- 0.006\n",
      "AUC: 0.978 +/- 0.010\n",
      "Precision: 0.974 +/- 0.006\n",
      "Exec time for a single run: 2.252s\n",
      "-----------------\n",
      "MLP\n",
      "Accuracy: 0.950 +/- 0.043\n",
      "AUC: 0.984 +/- 0.005\n",
      "Precision: 0.984 +/- 0.005\n",
      "Exec time for a single run: 0.286s\n",
      "-----------------\n",
      "Bagging\n",
      "Accuracy: 0.973 +/- 0.007\n",
      "AUC: 0.972 +/- 0.010\n",
      "Precision: 0.974 +/- 0.005\n",
      "Exec time for a single run: 11.829s\n"
     ]
    }
   ],
   "source": [
    "run_classifiers(clfs, X_t, y)"
   ]
  },
  {
   "cell_type": "markdown",
   "metadata": {},
   "source": [
    "#### Le SVD permet d'obtenir une matrice de dimensions plus basses, on peut donc ainsi faire tourner la liste complète des classifiers.\n",
    "#### On peut constater que les résultats sont globalement bons et meilleurs qu'avant le SVD"
   ]
  },
  {
   "cell_type": "markdown",
   "metadata": {},
   "source": [
    "### Création d'un pipeline"
   ]
  },
  {
   "cell_type": "code",
   "execution_count": 51,
   "metadata": {},
   "outputs": [],
   "source": [
    "pipe = pipeline.Pipeline(steps=[\n",
    "    ('vectorizer+tfidf', TfidfVectorizer(stop_words='english')),\n",
    "    ('svd', decomposition.TruncatedSVD(n_components=100)),\n",
    "    ('model', ensemble.RandomForestClassifier(n_estimators=50, random_state=1))\n",
    "])"
   ]
  },
  {
   "cell_type": "markdown",
   "metadata": {},
   "source": [
    "### Application à un autre jeu de données"
   ]
  },
  {
   "cell_type": "code",
   "execution_count": 52,
   "metadata": {},
   "outputs": [],
   "source": [
    "yelp_data = pd.read_csv('yelp-text-by-stars.csv', delimiter=';', encoding = 'ISO-8859-1')"
   ]
  },
  {
   "cell_type": "code",
   "execution_count": 53,
   "metadata": {},
   "outputs": [
    {
     "name": "stdout",
     "output_type": "stream",
     "text": [
      "(47371, 2)\n"
     ]
    },
    {
     "data": {
      "text/html": [
       "<div>\n",
       "<style scoped>\n",
       "    .dataframe tbody tr th:only-of-type {\n",
       "        vertical-align: middle;\n",
       "    }\n",
       "\n",
       "    .dataframe tbody tr th {\n",
       "        vertical-align: top;\n",
       "    }\n",
       "\n",
       "    .dataframe thead th {\n",
       "        text-align: right;\n",
       "    }\n",
       "</style>\n",
       "<table border=\"1\" class=\"dataframe\">\n",
       "  <thead>\n",
       "    <tr style=\"text-align: right;\">\n",
       "      <th></th>\n",
       "      <th>Stars</th>\n",
       "      <th>Text</th>\n",
       "    </tr>\n",
       "  </thead>\n",
       "  <tbody>\n",
       "    <tr>\n",
       "      <td>0</td>\n",
       "      <td>1</td>\n",
       "      <td>Boarded my English Mastiff here over New Year'...</td>\n",
       "    </tr>\n",
       "    <tr>\n",
       "      <td>1</td>\n",
       "      <td>1</td>\n",
       "      <td>Another case of the Emperor's New Clothes.  So...</td>\n",
       "    </tr>\n",
       "    <tr>\n",
       "      <td>2</td>\n",
       "      <td>1</td>\n",
       "      <td>Came on Valentine's Day night having pre-bough...</td>\n",
       "    </tr>\n",
       "    <tr>\n",
       "      <td>3</td>\n",
       "      <td>1</td>\n",
       "      <td>2Nd time eating here today.1st time was great ...</td>\n",
       "    </tr>\n",
       "    <tr>\n",
       "      <td>4</td>\n",
       "      <td>1</td>\n",
       "      <td>Allegiant is a disaster.  Their fares are chea...</td>\n",
       "    </tr>\n",
       "  </tbody>\n",
       "</table>\n",
       "</div>"
      ],
      "text/plain": [
       "   Stars                                               Text\n",
       "0      1  Boarded my English Mastiff here over New Year'...\n",
       "1      1  Another case of the Emperor's New Clothes.  So...\n",
       "2      1  Came on Valentine's Day night having pre-bough...\n",
       "3      1  2Nd time eating here today.1st time was great ...\n",
       "4      1  Allegiant is a disaster.  Their fares are chea..."
      ]
     },
     "execution_count": 53,
     "metadata": {},
     "output_type": "execute_result"
    }
   ],
   "source": [
    "print(yelp_data.shape)\n",
    "yelp_data.head()"
   ]
  },
  {
   "cell_type": "code",
   "execution_count": 54,
   "metadata": {},
   "outputs": [],
   "source": [
    "# Change 0 to 3 to 0\n",
    "yelp_data = yelp_data.replace([0, 1, 2, 3], 0)\n",
    "# Change 4 and 5 to 1\n",
    "yelp_data = yelp_data.replace([4, 5], 1)"
   ]
  },
  {
   "cell_type": "code",
   "execution_count": 55,
   "metadata": {},
   "outputs": [
    {
     "name": "stdout",
     "output_type": "stream",
     "text": [
      "[0 0 0 ... 1 1 1]\n"
     ]
    }
   ],
   "source": [
    "X = yelp_data.ix[:, 1].values\n",
    "\n",
    "# Extract targets in y\n",
    "y = yelp_data.ix[:, 0].values\n",
    "print(y)"
   ]
  },
  {
   "cell_type": "code",
   "execution_count": 56,
   "metadata": {},
   "outputs": [
    {
     "name": "stdout",
     "output_type": "stream",
     "text": [
      "-----------------\n",
      "pipe\n",
      "Accuracy: 0.796 +/- 0.048\n",
      "AUC: 0.861 +/- 0.037\n",
      "Precision: 0.801 +/- 0.068\n",
      "Exec time for a single run: 23.876s\n"
     ]
    }
   ],
   "source": [
    "clfs = {'pipe': pipe}\n",
    "\n",
    "run_classifiers(clfs, X, y)"
   ]
  },
  {
   "cell_type": "markdown",
   "metadata": {},
   "source": [
    "#### On peut constater que pour l'ensemble du dataset yelp, qui est assez imposant nous obtenons une accuracy d'environ 80%, de même pour la précision.\n",
    "#### Le SVD du pipe est de 100 composant et nous supprimons les mots clés stop, comme précédemment.\n",
    "#### Le temps d'exécution indiqué est l'estimation du temps d'une seule exécution de l'algorithme."
   ]
  },
  {
   "cell_type": "markdown",
   "metadata": {},
   "source": [
    "## IV. Application d'une approche Word2Vec\n",
    "\n",
    "2 types, Skip-gram et CBOW : Continuous Bag Of Words.\n",
    "\n",
    "### Skip-gram\n",
    "* Input: Target word\n",
    "* Outputs: Surrounding words\n",
    "\n",
    "### CBOW\n",
    "Similar to Skip-gram but input and outputs are swapped\n",
    "\n",
    "It is claimed that Skip-gram tends to do better in rare words.\n",
    "Nevertheless, the performance of Skip-gram and CBOW are generally similar."
   ]
  },
  {
   "cell_type": "markdown",
   "metadata": {},
   "source": [
    "#### Première étape : Adapter les données pour le Word2Vec model"
   ]
  },
  {
   "cell_type": "code",
   "execution_count": 57,
   "metadata": {},
   "outputs": [
    {
     "name": "stdout",
     "output_type": "stream",
     "text": [
      "['boarded', 'my', 'english', 'mastiff', 'here', 'over', 'new', 'year', 's', 'they']\n"
     ]
    }
   ],
   "source": [
    "cleaned_X = []\n",
    "for text in X:\n",
    "    # Application d'une regex qui ne grade que les lettres et chiffres, on passe tous les mots en minuscules\n",
    "    cleaned_X.append(re.sub(r'[^a-z0-9]+', ' ', text.lower()).split())\n",
    "\n",
    "print(cleaned_X[0][:10])"
   ]
  },
  {
   "cell_type": "code",
   "execution_count": 58,
   "metadata": {},
   "outputs": [],
   "source": [
    "model_w2v = models.Word2Vec(sentences=cleaned_X, size=100, window=5, min_count=5, workers=4, sg=0)"
   ]
  },
  {
   "cell_type": "markdown",
   "metadata": {},
   "source": [
    "#### La commande suivante permet ensuite de visualiser les mots les plus similaire au mot choisit"
   ]
  },
  {
   "cell_type": "code",
   "execution_count": 59,
   "metadata": {},
   "outputs": [
    {
     "data": {
      "text/plain": [
       "[('were', 0.6731177568435669),\n",
       " ('re', 0.666783332824707),\n",
       " ('aren', 0.5655664205551147),\n",
       " ('arent', 0.49904924631118774),\n",
       " ('serve', 0.45695966482162476),\n",
       " ('werent', 0.42885375022888184),\n",
       " ('weren', 0.4276278614997864),\n",
       " ('seem', 0.4195653796195984),\n",
       " ('is', 0.41939783096313477),\n",
       " ('produce', 0.387501060962677)]"
      ]
     },
     "execution_count": 59,
     "metadata": {},
     "output_type": "execute_result"
    }
   ],
   "source": [
    "model_w2v.wv.most_similar('are')"
   ]
  },
  {
   "cell_type": "markdown",
   "metadata": {},
   "source": [
    "### FastText\n",
    "\n",
    "Permet de ne pas seulement analyser les mots entiers, mais par groupes de n lettres.\n",
    "\n",
    "Le principal intérêt est de permettre de trouver des mots similaires à des mots ne faisant pas partie du dataset de base !\n",
    "\n",
    "Exemple : \n",
    "* n = 4\n",
    "* word = 'tomate'\n",
    "* ngrams = ['toma','omat','mate']"
   ]
  },
  {
   "cell_type": "code",
   "execution_count": 60,
   "metadata": {},
   "outputs": [],
   "source": [
    "model_ft = models.FastText(cleaned_X, size=100, window=5, min_count=5, workers=4,sg=1)"
   ]
  },
  {
   "cell_type": "code",
   "execution_count": 61,
   "metadata": {},
   "outputs": [
    {
     "name": "stdout",
     "output_type": "stream",
     "text": [
      "Word does NOT exist in dataset!\n"
     ]
    }
   ],
   "source": [
    "# Find a word not in dataset\n",
    "\n",
    "word_not_in_dataset = 'anomalies'\n",
    "\n",
    "for sentence in cleaned_X:\n",
    "    if word_not_in_dataset in sentence:\n",
    "        print('Word does exist in dataset!')\n",
    "        break\n",
    "else:\n",
    "    print('Word does NOT exist in dataset!')"
   ]
  },
  {
   "cell_type": "code",
   "execution_count": 62,
   "metadata": {},
   "outputs": [
    {
     "data": {
      "text/plain": [
       "[('anomaly', 0.7504565715789795),\n",
       " ('enemy', 0.6721968650817871),\n",
       " ('intimacy', 0.6696910262107849),\n",
       " ('bjs', 0.6681037545204163),\n",
       " ('kj', 0.6480093598365784),\n",
       " ('izakaya', 0.6450121998786926),\n",
       " ('caliendo', 0.6380575895309448),\n",
       " ('afterthought', 0.6350116729736328),\n",
       " ('interstate', 0.6337161064147949),\n",
       " ('habitat', 0.6301324367523193)]"
      ]
     },
     "execution_count": 62,
     "metadata": {},
     "output_type": "execute_result"
    }
   ],
   "source": [
    "model_ft.wv.most_similar(word_not_in_dataset)"
   ]
  }
 ],
 "metadata": {
  "kernelspec": {
   "display_name": "Python 3",
   "language": "python",
   "name": "python3"
  },
  "language_info": {
   "codemirror_mode": {
    "name": "ipython",
    "version": 3
   },
   "file_extension": ".py",
   "mimetype": "text/x-python",
   "name": "python",
   "nbconvert_exporter": "python",
   "pygments_lexer": "ipython3",
   "version": "3.7.4"
  }
 },
 "nbformat": 4,
 "nbformat_minor": 2
}
